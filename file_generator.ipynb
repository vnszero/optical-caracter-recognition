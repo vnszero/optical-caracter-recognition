{
 "cells": [
  {
   "cell_type": "markdown",
   "metadata": {},
   "source": [
    "## Create mnist_sample_feature_select file (3RD step)"
   ]
  },
  {
   "cell_type": "code",
   "execution_count": 1,
   "metadata": {},
   "outputs": [],
   "source": [
    "from work_methods import create_filter_array\n",
    "\n",
    "# remove features based on square reference\n",
    "square_reference = 28\n",
    "# remove 4 top rows\n",
    "start_row = 4\n",
    "# remove 4 last rows\n",
    "last_row = 24\n",
    "# remove 4 left columns\n",
    "start_column = 4\n",
    "# remove 4 last columns\n",
    "last_column = 24\n",
    "\n",
    "filtr_array = create_filter_array(square_reference, start_row, start_column, last_row, last_column)"
   ]
  },
  {
   "cell_type": "code",
   "execution_count": 2,
   "metadata": {},
   "outputs": [],
   "source": [
    "from work_methods import create_selected_base\n",
    "create_selected_base('mnist_evaluation.csv', 'mnist_sample_feature_select.csv', filtr_array)"
   ]
  },
  {
   "cell_type": "markdown",
   "metadata": {},
   "source": [
    "## Create mnist_sample_binary file (4TH step)"
   ]
  },
  {
   "cell_type": "code",
   "execution_count": 3,
   "metadata": {},
   "outputs": [],
   "source": [
    "from work_methods import create_binary_base\n",
    "create_binary_base('mnist_evaluation.csv','mnist_sample_binary.csv')"
   ]
  },
  {
   "cell_type": "markdown",
   "metadata": {},
   "source": [
    "## Create mnist_sample_feature_select_binary file (5TH step)"
   ]
  },
  {
   "cell_type": "code",
   "execution_count": 4,
   "metadata": {},
   "outputs": [],
   "source": [
    "create_binary_base('mnist_sample_feature_select.csv','mnist_sample_feature_select_binary.csv')   "
   ]
  }
 ],
 "metadata": {
  "kernelspec": {
   "display_name": "Python 3 (ipykernel)",
   "language": "python",
   "name": "python3"
  },
  "language_info": {
   "codemirror_mode": {
    "name": "ipython",
    "version": 3
   },
   "file_extension": ".py",
   "mimetype": "text/x-python",
   "name": "python",
   "nbconvert_exporter": "python",
   "pygments_lexer": "ipython3",
   "version": "3.9.13"
  }
 },
 "nbformat": 4,
 "nbformat_minor": 2
}
