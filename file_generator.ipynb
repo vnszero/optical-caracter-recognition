{
 "cells": [
  {
   "cell_type": "markdown",
   "metadata": {},
   "source": [
    "## Create mnist_sample_feature_select file"
   ]
  },
  {
   "cell_type": "code",
   "execution_count": null,
   "metadata": {},
   "outputs": [],
   "source": [
    "from work_methods import create_filter_array\n",
    "\n",
    "# remove features based on square reference\n",
    "square_reference = 28\n",
    "# remove 4 top rows\n",
    "start_row = 4\n",
    "# remove 4 last rows\n",
    "last_row = 24\n",
    "# remove 4 left columns\n",
    "start_column = 4\n",
    "# remove 4 last columns\n",
    "last_column = 24\n",
    "\n",
    "filtr_array = create_filter_array(square_reference, start_row, start_column, last_row, last_column)"
   ]
  },
  {
   "cell_type": "code",
   "execution_count": null,
   "metadata": {},
   "outputs": [],
   "source": [
    "from work_methods import create_selected_base\n",
    "create_selected_base('mnist_evaluation.csv', 'mnist_sample_feature_select.csv', filtr_array)"
   ]
  },
  {
   "cell_type": "markdown",
   "metadata": {},
   "source": [
    "## Create mnist_sample_binary file"
   ]
  },
  {
   "cell_type": "code",
   "execution_count": null,
   "metadata": {},
   "outputs": [],
   "source": [
    "from work_methods import create_binary_base\n",
    "create_binary_base('mnist_evaluation.csv','mnist_sample_binary.csv')"
   ]
  },
  {
   "cell_type": "markdown",
   "metadata": {},
   "source": [
    "## Create mnist_sample_feature_select_binary file"
   ]
  },
  {
   "cell_type": "code",
   "execution_count": null,
   "metadata": {},
   "outputs": [],
   "source": [
    "create_binary_base('mnist_sample_feature_select.csv','mnist_sample_feature_select_binary.csv')   "
   ]
  }
 ],
 "metadata": {
  "language_info": {
   "name": "python"
  }
 },
 "nbformat": 4,
 "nbformat_minor": 2
}
