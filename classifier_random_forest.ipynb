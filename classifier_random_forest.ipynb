{
 "cells": [
  {
   "cell_type": "code",
   "execution_count": null,
   "metadata": {},
   "outputs": [],
   "source": [
    "# libraries\n",
    "import pandas as pd\n",
    "import optuna\n",
    "from sklearn.ensemble import RandomForestClassifier\n",
    "from results import Fold\n",
    "from evaluation import Experiment, GoalOptimizationRandomForest\n",
    "from method import ScikitLearnMachineLearning\n",
    "from work_methods import parameters_graph, show_results\n",
    "\n",
    "# global categories\n",
    "numbers_names = ['0','1','2','3','4','5','6','7','8','9']\n",
    "numbers_values = [x for x in range(0,10,1)]\n",
    "numbers = dict(zip(numbers_values,numbers_names))"
   ]
  },
  {
   "cell_type": "markdown",
   "metadata": {},
   "source": [
    "## Use the classifier methods without any input filter (2ND step)"
   ]
  },
  {
   "cell_type": "code",
   "execution_count": null,
   "metadata": {},
   "outputs": [],
   "source": [
    "file_name = 'mnist_evaluation.csv'\n",
    "\n",
    "# recover DataFrame\n",
    "df_data = pd.DataFrame(pd.read_csv(file_name))\n",
    "\n",
    "# generate fold and p experiment\n",
    "folds = Fold.generate_k_folds(df_data,val_k=5,col_category='y_class',\n",
    "                            num_threshold=1,seed=1,\n",
    "                            num_folds_validation=3,num_threshold_validation=2)"
   ]
  },
  {
   "cell_type": "markdown",
   "metadata": {},
   "source": [
    "### Random Forrest Classifier 28x28"
   ]
  },
  {
   "cell_type": "code",
   "execution_count": null,
   "metadata": {},
   "outputs": [],
   "source": [
    "clf_rf = RandomForestClassifier(random_state=1)\n",
    "ml_method = ScikitLearnMachineLearning(clf_rf)\n",
    "exp = Experiment(folds,ml_method, GoalOptimizationRandomForest, num_trials=10,\n",
    "                    sampler=optuna.samplers.TPESampler(seed=1, n_startup_trials=3))\n",
    "exp.calculate_results()"
   ]
  },
  {
   "cell_type": "code",
   "execution_count": null,
   "metadata": {},
   "outputs": [],
   "source": [
    "studdy_fold_0 = exp.studies_per_fold[0]\n",
    "studdy_fold_0.trials_dataframe().sort_values(\"value\",ascending=False)"
   ]
  },
  {
   "cell_type": "code",
   "execution_count": null,
   "metadata": {},
   "outputs": [],
   "source": [
    "parameters_graph(exp.studies_per_fold[0].trials)"
   ]
  },
  {
   "cell_type": "code",
   "execution_count": null,
   "metadata": {},
   "outputs": [],
   "source": [
    "show_results(\"Random Forest 28x28\", numbers, exp)"
   ]
  },
  {
   "cell_type": "markdown",
   "metadata": {},
   "source": [
    "## Use infogain as input filter (3RD step)"
   ]
  },
  {
   "cell_type": "code",
   "execution_count": null,
   "metadata": {},
   "outputs": [],
   "source": [
    "file_name = 'mnist_sample_feature_select.csv'\n",
    "\n",
    "# recover DataFrame\n",
    "df_data = pd.DataFrame(pd.read_csv(file_name))\n",
    "\n",
    "# generate fold and p experiment\n",
    "folds = Fold.generate_k_folds(df_data,val_k=5,col_category='y_class',\n",
    "                            num_threshold=1,seed=1,\n",
    "                            num_folds_validation=3,num_threshold_validation=2)"
   ]
  },
  {
   "cell_type": "markdown",
   "metadata": {},
   "source": [
    "### Random Forest Classifier 20x20"
   ]
  },
  {
   "cell_type": "code",
   "execution_count": null,
   "metadata": {},
   "outputs": [],
   "source": [
    "clf_rf = RandomForestClassifier(random_state=1)\n",
    "ml_method = ScikitLearnMachineLearning(clf_rf)\n",
    "exp = Experiment(folds,ml_method, GoalOptimizationRandomForest, num_trials=10,\n",
    "                    sampler=optuna.samplers.TPESampler(seed=1, n_startup_trials=3))\n",
    "exp.calculate_results()"
   ]
  },
  {
   "cell_type": "code",
   "execution_count": null,
   "metadata": {},
   "outputs": [],
   "source": [
    "studdy_fold_0 = exp.studies_per_fold[0]\n",
    "studdy_fold_0.trials_dataframe().sort_values(\"value\",ascending=False)"
   ]
  },
  {
   "cell_type": "code",
   "execution_count": null,
   "metadata": {},
   "outputs": [],
   "source": [
    "parameters_graph(exp.studies_per_fold[0].trials)"
   ]
  },
  {
   "cell_type": "code",
   "execution_count": null,
   "metadata": {},
   "outputs": [],
   "source": [
    "show_results(\"Random Forest 20x20\", numbers, exp)"
   ]
  },
  {
   "cell_type": "markdown",
   "metadata": {},
   "source": [
    "## Transform feature as input filter (4TH step)"
   ]
  },
  {
   "cell_type": "code",
   "execution_count": null,
   "metadata": {},
   "outputs": [],
   "source": [
    "file_name = 'mnist_sample_binary.csv'\n",
    "\n",
    "# recover DataFrame\n",
    "df_data = pd.DataFrame(pd.read_csv(file_name))\n",
    "\n",
    "# generate fold and p experiment\n",
    "folds = Fold.generate_k_folds(df_data,val_k=5,col_category='y_class',\n",
    "                            num_threshold=1,seed=1,\n",
    "                            num_folds_validation=3,num_threshold_validation=2)"
   ]
  },
  {
   "cell_type": "markdown",
   "metadata": {},
   "source": [
    "### Random Forest Classifier 28x28 Binary Input"
   ]
  },
  {
   "cell_type": "code",
   "execution_count": null,
   "metadata": {},
   "outputs": [],
   "source": [
    "clf_rf = RandomForestClassifier(random_state=1)\n",
    "ml_method = ScikitLearnMachineLearning(clf_rf)\n",
    "exp = Experiment(folds,ml_method, GoalOptimizationRandomForest, num_trials=10,\n",
    "                    sampler=optuna.samplers.TPESampler(seed=1, n_startup_trials=3))\n",
    "exp.calculate_results()"
   ]
  },
  {
   "cell_type": "code",
   "execution_count": null,
   "metadata": {},
   "outputs": [],
   "source": [
    "studdy_fold_0 = exp.studies_per_fold[0]\n",
    "studdy_fold_0.trials_dataframe().sort_values(\"value\",ascending=False)"
   ]
  },
  {
   "cell_type": "code",
   "execution_count": null,
   "metadata": {},
   "outputs": [],
   "source": [
    "parameters_graph(exp.studies_per_fold[0].trials)"
   ]
  },
  {
   "cell_type": "code",
   "execution_count": null,
   "metadata": {},
   "outputs": [],
   "source": [
    "show_results(\"Random Forest 28x28 Binary Input\", numbers, exp)"
   ]
  },
  {
   "cell_type": "markdown",
   "metadata": {},
   "source": [
    "## Mix input filters (5TH step)"
   ]
  },
  {
   "cell_type": "code",
   "execution_count": null,
   "metadata": {},
   "outputs": [],
   "source": [
    "file_name = 'mnist_sample_feature_select_binary.csv'\n",
    "\n",
    "# recover DataFrame\n",
    "df_data = pd.DataFrame(pd.read_csv(file_name))\n",
    "\n",
    "# generate fold and p experiment\n",
    "folds = Fold.generate_k_folds(df_data,val_k=5,col_category='y_class',\n",
    "                            num_threshold=1,seed=1,\n",
    "                            num_folds_validation=3,num_threshold_validation=2)"
   ]
  },
  {
   "cell_type": "markdown",
   "metadata": {},
   "source": [
    "### Random Forest Classifier 20x20 Binary Input"
   ]
  },
  {
   "cell_type": "code",
   "execution_count": null,
   "metadata": {},
   "outputs": [],
   "source": [
    "clf_rf = RandomForestClassifier(random_state=1)\n",
    "ml_method = ScikitLearnMachineLearning(clf_rf)\n",
    "exp = Experiment(folds,ml_method, GoalOptimizationRandomForest, num_trials=10,\n",
    "                    sampler=optuna.samplers.TPESampler(seed=1, n_startup_trials=3))\n",
    "exp.calculate_results()"
   ]
  },
  {
   "cell_type": "code",
   "execution_count": null,
   "metadata": {},
   "outputs": [],
   "source": [
    "studdy_fold_0 = exp.studies_per_fold[0]\n",
    "studdy_fold_0.trials_dataframe().sort_values(\"value\",ascending=False)"
   ]
  },
  {
   "cell_type": "code",
   "execution_count": null,
   "metadata": {},
   "outputs": [],
   "source": [
    "parameters_graph(exp.studies_per_fold[0].trials)"
   ]
  },
  {
   "cell_type": "code",
   "execution_count": null,
   "metadata": {},
   "outputs": [],
   "source": [
    "show_results(\"Random Forest 20x20 Binary Input\", numbers, exp)"
   ]
  }
 ],
 "metadata": {
  "kernelspec": {
   "display_name": "Python 3 (ipykernel)",
   "language": "python",
   "name": "python3"
  },
  "language_info": {
   "codemirror_mode": {
    "name": "ipython",
    "version": 3
   },
   "file_extension": ".py",
   "mimetype": "text/x-python",
   "name": "python",
   "nbconvert_exporter": "python",
   "pygments_lexer": "ipython3",
   "version": "3.9.13"
  }
 },
 "nbformat": 4,
 "nbformat_minor": 2
}
